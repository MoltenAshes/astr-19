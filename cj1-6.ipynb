{
 "cells": [
  {
   "cell_type": "code",
   "execution_count": 1,
   "id": "733028b1",
   "metadata": {},
   "outputs": [],
   "source": [
    "import numpy as np"
   ]
  },
  {
   "cell_type": "code",
   "execution_count": 5,
   "id": "0ffc322f",
   "metadata": {},
   "outputs": [
    {
     "name": "stdout",
     "output_type": "stream",
     "text": [
      "0.000000e+000.01.0\n",
      "6.289475e-030.0062894333160677510.9999802213186832\n",
      "1.257895e-020.0125786178387410580.9999208860571255\n",
      "1.886842e-020.018867304784467090.9998219965624732\n",
      "2.515790e-020.0251552453893758470.9996835567465339\n",
      "3.144737e-020.03144219091912060.9995055720856215\n",
      "3.773685e-020.037727892678717180.99928804962034\n",
      "4.402632e-020.044012102022381660.9990309979553044\n",
      "5.031580e-020.050294570363366180.9987344272588006\n",
      "5.660527e-020.0565750491837923450.9983983492623831\n"
     ]
    }
   ],
   "source": [
    "x=np.linspace(0,2*np.pi,1000)\n",
    "for i in range(10):\n",
    "    print(f\"{x[i]:12e}{np.sin(x[i])}{np.cos(x[i])}\")"
   ]
  },
  {
   "cell_type": "code",
   "execution_count": null,
   "id": "047efb14",
   "metadata": {},
   "outputs": [],
   "source": []
  }
 ],
 "metadata": {
  "kernelspec": {
   "display_name": "Python 3 (ipykernel)",
   "language": "python",
   "name": "python3"
  },
  "language_info": {
   "codemirror_mode": {
    "name": "ipython",
    "version": 3
   },
   "file_extension": ".py",
   "mimetype": "text/x-python",
   "name": "python",
   "nbconvert_exporter": "python",
   "pygments_lexer": "ipython3",
   "version": "3.10.4"
  }
 },
 "nbformat": 4,
 "nbformat_minor": 5
}
